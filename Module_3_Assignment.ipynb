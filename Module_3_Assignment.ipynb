{
  "nbformat": 4,
  "nbformat_minor": 0,
  "metadata": {
    "colab": {
      "provenance": []
    },
    "kernelspec": {
      "name": "python3",
      "display_name": "Python 3"
    },
    "language_info": {
      "name": "python"
    }
  },
  "cells": [
    {
      "cell_type": "markdown",
      "source": [
        "Q1, What are data structures, and why are they important?\n",
        "   - A data structure is a specialized way of organizing, managing, and storing data in a computer so it can be used efficiently. Data structures are designed to facilitate access and modification of data for various computational tasks. They are a foundational concept in computer science and are used in software development, algorithms, and problem-solving.\n",
        "\n",
        "Examples of common data structures include:-\n",
        "\n",
        "Arrays: Fixed-size collections of elements stored sequentially.\n",
        "Linked Lists: Collections of elements connected via pointers.\n",
        "Stacks: Last-in, first-out (LIFO) collections.\n",
        "Queues: First-in, first-out (FIFO) collections.\n",
        "Trees: Hierarchical structures, such as binary trees or binary search trees.\n",
        "Graphs: Collections of nodes (vertices) and edges, used to represent networks.\n",
        "Hash Tables: Structures that map keys to values for fast lookups.\n",
        "Why Are Data Structures Important?\n",
        "Efficient Data Management:\n",
        "They help in organizing data in a way that makes retrieval and updates faster, saving computational time and resources.\n",
        "\n",
        "Better Problem-Solving:\n",
        "Many computational problems are best solved with specific data structures, such as graphs for network problems or trees for hierarchical data.\n",
        "\n",
        "Algorithm Optimization:\n",
        "The performance of algorithms often depends on the choice of the right data structure. For example:\n",
        "\n",
        "Searching is faster in a binary search tree compared to a linked list.\n",
        "Hash tables offer near-instant access for key-value lookups.\n",
        "Scalability:\n",
        "Efficient data structures allow programs to handle large amounts of data without significant performance degradation.\n",
        "\n",
        "Foundation of Programming:\n",
        "Understanding data structures is essential for learning and designing algorithms, as the two concepts are tightly interlinked.\n",
        "\n",
        "Real-World Applications:\n",
        "Data structures are used everywhere, from managing databases and file systems to powering search engines, social networks, and artificial intelligence.\n",
        "\n"
      ],
      "metadata": {
        "id": "HK9e6pPm9MS8"
      }
    },
    {
      "cell_type": "markdown",
      "source": [
        "Q2, Explain the difference between mutable and immutable data types with examples?\n",
        "- 1. Mutable Data Types\n",
        "Definition:\n",
        "Mutable data types are objects whose values can be altered or updated after their creation, without changing the object's identity.\n",
        "\n",
        "Key Characteristics:\n",
        "\n",
        "The content of the object can change.\n",
        "The memory address (identity of the object) remains the same.\n",
        "\n",
        "Example List, Dictionaries, Sets\n",
        "\n",
        "\n",
        "2. Immutable Data Types\n",
        "Definition:\n",
        "Immutable data types are objects whose values cannot be changed after they are created. If you want to modify the value, a new object is created.\n",
        "\n",
        "Key Characteristics:\n",
        "\n",
        "The content of the object cannot change.\n",
        "Any \"modification\" results in a new object being created in memory.\n",
        "\n",
        "Example Tuples, String, Numbers"
      ],
      "metadata": {
        "id": "fYIICnF2-Zx-"
      }
    },
    {
      "cell_type": "markdown",
      "source": [
        "Q3, What are the main differences between lists and tuples in Python?\n",
        "- Main Differences Between Lists and Tuples in Python\n",
        "Aspect\tLists\tTuples\n",
        "Mutability\tLists are mutable (can be modified).\tTuples are immutable (cannot be modified).\n",
        "Syntax\tDefined using square brackets [].\tDefined using parentheses ().\n",
        "Performance\tSlightly slower due to mutability.\tFaster due to immutability.\n",
        "Use Case\tUsed for collections of items that may change.\tUsed for collections of items that are fixed.\n",
        "Methods Available\tHave many methods like append(), remove(), etc.\tHave fewer methods, like count() and index().\n",
        "Memory Usage\tRequire more memory for dynamic resizing.\tMore memory efficient than lists.\n",
        "Hashable\tNot hashable, so cannot be used as dictionary keys.\tHashable if all elements are hashable, so can be used as dictionary keys.\n",
        "Detailed Explanation\n",
        "Mutability:\n",
        "\n",
        "Lists: Can change their size and elements.\n",
        "python\n",
        "Copy code\n",
        "my_list = [1, 2, 3]\n",
        "my_list.append(4)  # Modifies the list\n",
        "print(my_list)  # Output: [1, 2, 3, 4]\n",
        "Tuples: Cannot be changed after creation.\n",
        "python\n",
        "Copy code\n",
        "my_tuple = (1, 2, 3)\n",
        "# my_tuple[0] = 4  # Raises an error\n",
        "new_tuple = my_tuple + (4,)  # Creates a new tuple\n",
        "print(new_tuple)  # Output: (1, 2, 3, 4)\n",
        "Syntax:\n",
        "\n",
        "Lists are created using square brackets:\n",
        "python\n",
        "Copy code\n",
        "my_list = [1, 2, 3]\n",
        "Tuples are created using parentheses:\n",
        "python\n",
        "Copy code\n",
        "my_tuple = (1, 2, 3)\n",
        "Performance:\n",
        "\n",
        "Lists are slower because their mutability requires additional overhead for resizing and managing memory.\n",
        "Tuples are faster because they are immutable and fixed in size.\n",
        "Use Cases:\n",
        "\n",
        "Lists: Used when you need to modify data frequently.\n",
        "python\n",
        "Copy code\n",
        "shopping_list = ['milk', 'bread']\n",
        "shopping_list.append('eggs')  # Adding more items is straightforward\n",
        "print(shopping_list)  # Output: ['milk', 'bread', 'eggs']\n",
        "Tuples: Used for fixed data that shouldn't change, such as coordinates.\n",
        "python\n",
        "Copy code\n",
        "coordinates = (10, 20)  # Represents a point in 2D space\n",
        "Memory Efficiency:\n",
        "\n",
        "Tuples use less memory, making them more efficient for large, fixed collections.\n",
        "Hashability:\n",
        "\n",
        "Lists cannot be used as dictionary keys because they are mutable and not hashable.\n",
        "Tuples can be used as dictionary keys if all their elements are hashable.\n",
        "python\n",
        "Copy code\n",
        "my_dict = {(1, 2): \"point\"}  # Tuple as a key\n",
        "print(my_dict[(1, 2)])  # Output: point\n",
        "Example Comparison:\n",
        "python\n",
        "Copy code\n",
        "# List Example\n",
        "my_list = [1, 2, 3]\n",
        "my_list.append(4)  # Adds an element\n",
        "print(my_list)  # Output: [1, 2, 3, 4]\n",
        "\n",
        "# Tuple Example\n",
        "my_tuple = (1, 2, 3)\n",
        "# my_tuple[0] = 4  # Raises an error\n",
        "new_tuple = my_tuple + (4,)  # Creates a new tuple\n",
        "print(new_tuple)  # Output: (1, 2, 3, 4)\n",
        "By understanding these differences, you can choose the appropriate data structure for your needs, balancing mutability, performance, and memory efficiency."
      ],
      "metadata": {
        "id": "uuoiaZAgHwb-"
      }
    },
    {
      "cell_type": "markdown",
      "source": [
        "Q4, Describe how dictionaries store data?\n",
        "\n",
        "- Dictionaries in Python store data using a hash table. Each key-value pair is stored in a bucket, where the key is hashed using the hash() function to compute a hash value. This hash value determines the index of the bucket where the value is stored.\n",
        "\n",
        "When retrieving data, Python re-computes the hash of the key to locate the corresponding bucket. Collisions (when two keys hash to the same index) are handled using open addressing or other collision resolution techniques. Dictionaries dynamically resize their underlying table to maintain efficiency as more items are added.\n",
        "\n",
        "This mechanism provides O(1) average time complexity for lookups, insertions, and deletions, making dictionaries fast and efficient."
      ],
      "metadata": {
        "id": "s4U066IaJK9c"
      }
    },
    {
      "cell_type": "markdown",
      "source": [
        "Q5, Why might you use a set instead of a list in Python?\n",
        "  - Uniqueness:\n",
        "Sets automatically remove duplicate elements, ensuring all items are unique.\n",
        "\n",
        "Fast Membership Tests:\n",
        "Checking if an element exists in a set is faster (O(1)) compared to a list (O(n)).\n",
        "\n",
        "Set Operations:\n",
        "Sets support efficient operations like union, intersection, and difference, which are not directly available for lists.\n",
        "\n",
        "Order Not Important:\n",
        "Use a set when the order of elements doesn't matter.\n",
        "\n",
        "Example:\n",
        "\n",
        "python\n",
        "Copy code\n",
        "# Set ensures uniqueness\n",
        "my_set = {1, 2, 3, 3}  # Output: {1, 2, 3}\n",
        "\n",
        "# Fast membership test\n",
        "print(2 in my_set)  # Output: True\n",
        "\n",
        "\n",
        "\n",
        "\n",
        "\n"
      ],
      "metadata": {
        "id": "k5-yiyXqKuB-"
      }
    },
    {
      "cell_type": "markdown",
      "source": [
        "Q6, What is a string in Python, and how is it different from a list?\n",
        "   - A string in Python is an immutable sequence of characters, used to represent text data. It is defined using single, double, or triple quotes.\n",
        "\n",
        "Difference Between String and List\n",
        "Mutability:\n",
        "\n",
        "Strings are immutable (cannot be changed after creation).\n",
        "Lists are mutable (can be modified).\n",
        "Elements:\n",
        "\n",
        "Strings contain only characters.\n",
        "Lists can contain elements of different data types.\n",
        "Methods:\n",
        "\n",
        "Strings have text-specific methods like .upper() or .replace().\n",
        "Lists have methods for modifying elements, like .append() or .remove().\n",
        "Example:\n",
        "\n",
        "python\n",
        "Copy code\n",
        "# String\n",
        "my_string = \"hello\"\n",
        "# my_string[0] = 'H'  # Raises an error (immutable)\n",
        "\n",
        "# List\n",
        "my_list = ['h', 'e', 'l', 'l', 'o']\n",
        "my_list[0] = 'H'  # Modifiable\n",
        "print(my_list)  # Output: ['H', 'e', 'l', 'l', 'o']\n",
        "\n",
        "\n",
        "\n",
        "\n",
        "\n"
      ],
      "metadata": {
        "id": "Mn473H81LhCr"
      }
    },
    {
      "cell_type": "markdown",
      "source": [
        "Q7, How do tuples ensure data integrity in Python?\n",
        "   - Tuples ensure data integrity by being immutable, meaning their elements cannot be modified, added, or removed after creation. This prevents accidental changes, making them ideal for storing fixed, unchangeable data such as configuration settings or database keys.\n",
        "\n",
        "Example:\n",
        "python\n",
        "Copy code\n",
        "config = (1920, 1080, \"fullscreen\")  # Immutable tuple\n",
        "# config[0] = 1280  # Raises an error, ensuring the original data remains intact\n",
        "This immutability guarantees the integrity and consistency of the data throughout the program.\n",
        "\n",
        "\n",
        "\n",
        "\n",
        "\n",
        "\n"
      ],
      "metadata": {
        "id": "_CAiJi3aLu8O"
      }
    },
    {
      "cell_type": "markdown",
      "source": [
        "Q8, What is a hash table, and how does it relate to dictionaries in Python?\n",
        "- A hash table is a data structure that stores key-value pairs, using a hash function to compute an index for each key, allowing for fast data retrieval. It offers O(1) average time complexity for lookups, insertions, and deletions.\n",
        "\n",
        "How Does it Relate to Dictionaries in Python?\n",
        "In Python, dictionaries are implemented using hash tables. The key is hashed to determine its position in memory, allowing for fast access to its corresponding value. This efficient lookup process makes dictionaries fast and ideal for key-value pair storage.\n",
        "\n",
        "Example:\n",
        "\n",
        "python\n",
        "Copy code\n",
        "my_dict = {\"name\": \"Alice\", \"age\": 25}\n",
        "# Python uses a hash table to store these key-value pairs efficiently.\n",
        "\n",
        "\n",
        "\n",
        "\n",
        "\n"
      ],
      "metadata": {
        "id": "Ju-Vw45DMZB_"
      }
    },
    {
      "cell_type": "markdown",
      "source": [
        "Q9, Can lists contain different data types in Python?\n",
        "   - Yes, lists in Python can contain elements of different data types. A list can store integers, strings, floats, other lists, and more, all within the same list.\n",
        "\n",
        "Example:\n",
        "python\n",
        "Copy code\n",
        "my_list = [1, \"hello\", 3.14, [1, 2]]\n",
        "print(my_list)  # Output: [1, 'hello', 3.14, [1, 2]]\n"
      ],
      "metadata": {
        "id": "I6Jd30-cNus5"
      }
    },
    {
      "cell_type": "markdown",
      "source": [
        "Q10, Explain why strings are immutable in Python?\n",
        "\n",
        "- Strings are immutable in Python to ensure data integrity and optimization. Once a string is created, its value cannot be changed. This makes string operations more efficient and safe, as it avoids unexpected changes.\n",
        "\n",
        "Immutability also allows Python to share common string data between multiple variables, saving memory and improving performance.\n",
        "\n",
        "Example:\n",
        "python\n",
        "Copy code\n",
        "my_string = \"hello\"\n",
        "# my_string[0] = 'H'  # Raises an error because strings are immutable\n",
        "\n"
      ],
      "metadata": {
        "id": "oFIwKAQlOMQ3"
      }
    },
    {
      "cell_type": "markdown",
      "source": [
        "Q11, What advantages do dictionaries offer over lists for certain tasks?\n",
        "\n",
        "- Advantages of Dictionaries Over Lists\n",
        "Faster Lookup:\n",
        "Dictionaries provide O(1) average time complexity for lookups, while lists require O(n) to search for an element.\n",
        "\n",
        "Key-Value Pairing:\n",
        "Dictionaries store data as key-value pairs, making it easier to associate and access values based on unique keys.\n",
        "\n",
        "Uniqueness of Keys:\n",
        "Dictionaries automatically ensure that each key is unique, preventing duplicates.\n",
        "\n",
        "Efficient Membership Testing:\n",
        "Checking if a key exists in a dictionary is faster than checking for an element in a list.\n",
        "\n",
        "Example:\n",
        "python\n",
        "Copy code\n",
        "# Dictionary: Fast lookup by key\n",
        "my_dict = {\"name\": \"Alice\", \"age\": 25}\n",
        "print(my_dict[\"name\"])  # O(1) lookup\n",
        "\n",
        "# List: Slower lookup\n",
        "my_list = [\"Alice\", 25]\n",
        "print(\"Alice\" in my_list)  # O(n) lookup\n"
      ],
      "metadata": {
        "id": "eUrleHfWOvlE"
      }
    },
    {
      "cell_type": "markdown",
      "source": [
        "Q12, Describe a scenario where using a tuple would be preferable over a list?\n",
        "\n",
        "-  Using a tuple is preferable over a list when you need an immutable collection of items, ensuring that the values cannot be modified after creation. This immutability provides advantages in certain scenarios:\n",
        "\n",
        "Scenario Example: Storing Geographic Coordinates\n",
        "Imagine you are working on a mapping application and need to store geographic coordinates (latitude and longitude) for a specific location. In this case, a tuple is more suitable than a list:\n",
        "\n",
        "python\n",
        "Copy code\n",
        "# Tuple for geographic coordinates\n",
        "coordinates = (40.7128, -74.0060)  # Latitude, Longitude of New York City\n",
        "Why a tuple is better:\n",
        "Immutability: Coordinates should not be modified after they are set, ensuring data integrity.\n",
        "Memory Efficiency: Tuples use less memory than lists because they are immutable.\n",
        "Semantic Meaning: Using a tuple conveys that the data is fixed and should not change, making the code easier to understand.\n",
        "Other Examples\n",
        "Function Return Values: When returning multiple values from a function, using a tuple indicates the fixed structure of the returned data.\n",
        "Dictionary Keys: Tuples can be used as dictionary keys because they are hashable, unlike lists.\n",
        "In contrast, if you need to modify, reorder, or grow the collection, a list would be the better choice."
      ],
      "metadata": {
        "id": "lMhgoY5BtjVu"
      }
    },
    {
      "cell_type": "markdown",
      "source": [
        "Q13 How do sets handle duplicate values in Python?\n",
        "- Sets in Python automatically eliminate duplicate values. When you add elements to a set, only one instance of each unique value is stored, regardless of how many duplicates are added. This ensures that all elements in a set are unique.\n",
        "\n",
        "For example:\n",
        "\n",
        "python\n",
        "Copy code\n",
        "my_set = {1, 2, 2, 3}\n",
        "print(my_set)  # Output: {1, 2, 3}\n"
      ],
      "metadata": {
        "id": "P0ZG4etWt0aH"
      }
    },
    {
      "cell_type": "markdown",
      "source": [
        "Q14, How does the “in” keyword work differently for lists and dictionaries?\n",
        "  - The in keyword works differently for lists and dictionaries as follows:\n",
        "\n",
        "Lists: The in keyword checks if a specific value exists within the list elements.\n",
        "Example:\n",
        "\n",
        "python\n",
        "Copy code\n",
        "my_list = [1, 2, 3]\n",
        "print(2 in my_list)  # Output: True\n",
        "Dictionaries: The in keyword checks if a specific key exists in the dictionary, not the values.\n",
        "Example:\n",
        "\n",
        "python\n",
        "Copy code\n",
        "my_dict = {\"a\": 1, \"b\": 2}\n",
        "print(\"a\" in my_dict)  # Output: True\n",
        "print(1 in my_dict)    # Output: False\n",
        "This distinction ensures the in keyword is used appropriately based on the data structure."
      ],
      "metadata": {
        "id": "fi-csXbWuNX1"
      }
    },
    {
      "cell_type": "markdown",
      "source": [
        "Q15, Can you modify the elements of a tuple? Explain why or why not?\n",
        "- No, you cannot modify the elements of a tuple because tuples are immutable in Python. This means that once a tuple is created, its elements cannot be changed, added, or removed. Immutability ensures that the tuple's structure remains constant, making it useful for fixed, unchangeable data.\n",
        "\n",
        "Example:\n",
        "\n",
        "python\n",
        "Copy code\n",
        "my_tuple = (1, 2, 3)\n",
        "my_tuple[0] = 10  # Raises a TypeError: 'tuple' object does not support item assignment\n",
        "However, if a tuple contains mutable elements (e.g., a list), the contents of those mutable elements can be modified, but the tuple itself remains unchanged. For instance:\n",
        "\n",
        "python\n",
        "Copy code\n",
        "my_tuple = (1, [2, 3], 4)\n",
        "my_tuple[1][0] = 10  # Modifies the list inside the tuple\n",
        "print(my_tuple)  # Output: (1, [10, 3], 4)"
      ],
      "metadata": {
        "id": "QZMxZLF4u7i8"
      }
    },
    {
      "cell_type": "markdown",
      "source": [
        "Q16, What is a nested dictionary, and give an example of its use case?\n",
        "- A nested dictionary is a dictionary where the value of one or more keys is another dictionary. It allows you to represent hierarchical or complex data structures.\n",
        "\n",
        "Use Case Example: Storing Student Information\n",
        "A nested dictionary can be used to store detailed information about students in a class, where each student is identified by a unique ID, and their details are stored in an inner dictionary.\n",
        "\n",
        "python\n",
        "Copy code\n",
        "students = {\n",
        "    \"101\": {\"name\": \"Alice\", \"age\": 20, \"grade\": \"A\"},\n",
        "    \"102\": {\"name\": \"Bob\", \"age\": 22, \"grade\": \"B\"},\n",
        "    \"103\": {\"name\": \"Charlie\", \"age\": 21, \"grade\": \"A\"},\n",
        "}\n",
        "\n",
        "# Accessing Bob's grade\n",
        "print(students[\"102\"][\"grade\"])  # Output: B\n",
        "Benefits\n",
        "Provides a structured way to store complex data.\n",
        "Allows hierarchical relationships to be represented and accessed easily."
      ],
      "metadata": {
        "id": "vUEypPRsvUZM"
      }
    },
    {
      "cell_type": "markdown",
      "source": [
        "Q17, Describe the time complexity of accessing elements in a dictionary?\n",
        "- The time complexity of accessing elements in a dictionary is O(1) on average. This is because dictionaries in Python are implemented using a hash table, which allows for direct indexing based on the hash value of the key.\n",
        "\n",
        "Explanation:\n",
        "When you access a value using a key (e.g., my_dict[key]), Python computes the hash of the key and uses it to locate the value in constant time.\n",
        "However, in the worst case (e.g., hash collisions), the time complexity can degrade to O(n), where n is the number of elements in the dictionary. This is rare in practice because Python's hash table implementation minimizes collisions.\n",
        "Example:\n",
        "python\n",
        "Copy code\n",
        "my_dict = {\"a\": 1, \"b\": 2, \"c\": 3}\n",
        "print(my_dict[\"b\"])  # Average time complexity: O(1)"
      ],
      "metadata": {
        "id": "Y54cr_hlv5gd"
      }
    },
    {
      "cell_type": "markdown",
      "source": [
        "Q18, In what situations are lists preferred over dictionaries?\n",
        "- Lists are preferred over dictionaries in situations where:\n",
        "\n",
        "Order Matters: When you need to maintain the order of elements or iterate over them in sequence, as lists preserve the order of insertion.\n",
        "\n",
        "Example: Storing a sequence of steps in a process, such as [\"Step 1\", \"Step 2\", \"Step 3\"].\n",
        "Indexing by Position: When you need to access elements by their index rather than by a unique key.\n",
        "\n",
        "Example: Storing a collection of numbers or items where position is important, like [10, 20, 30].\n",
        "Small or Simple Data: When the dataset is small, and there is no need for key-value mapping. Lists are simpler to use and don't involve the overhead of key management.\n",
        "\n",
        "Example: Storing a list of colors like [\"red\", \"green\", \"blue\"].\n",
        "Duplicates Allowed: When you need to store duplicate values and don't require uniqueness, as lists allow multiple identical elements.\n",
        "\n",
        "Example: Keeping a list of votes like [1, 1, 2, 3, 1].\n",
        "In contrast, dictionaries are better suited when you need fast lookups by key, need to store unique key-value pairs, or require complex associations between data."
      ],
      "metadata": {
        "id": "AFvKu4iPwDqs"
      }
    },
    {
      "cell_type": "markdown",
      "source": [
        "Q19, Why are dictionaries considered unordered, and how does that affect data retrieval?\n",
        "- Dictionaries in Python are considered unordered because the elements (key-value pairs) are not stored in any specific order. This behavior is a result of the underlying hash table implementation, which organizes data based on hash values rather than the insertion order.\n",
        "\n",
        "How It Affects Data Retrieval:\n",
        "Access by Key: You can still retrieve values using a key with O(1) average time complexity, as dictionaries are optimized for fast lookups based on keys.\n",
        "No Indexing: You cannot rely on the order of items when iterating over a dictionary. For example, when you loop through the dictionary, the order of elements may not match the order in which they were added (though this behavior changed in Python 3.7+, where dictionaries maintain insertion order).\n",
        "Unpredictability in Iteration: If you need to retrieve items in a specific order, dictionaries alone are not suitable unless you explicitly sort them or use data structures like lists.\n",
        "Example:\n",
        "\n",
        "python\n",
        "Copy code\n",
        "my_dict = {\"a\": 1, \"b\": 2, \"c\": 3}\n",
        "for key in my_dict:\n",
        "    print(key)  # The order of keys may vary (but is insertion order in Python 3.7+)"
      ],
      "metadata": {
        "id": "eb7asD0VwX3l"
      }
    },
    {
      "cell_type": "markdown",
      "source": [
        "Q20, Explain the difference between a list and a dictionary in terms of data retrieval?\n",
        "- The main difference between a list and a dictionary in terms of data retrieval is how data is accessed:\n",
        "\n",
        "List:\n",
        "\n",
        "Data is retrieved using an index (an integer position) that represents the position of the element in the list.\n",
        "The time complexity for retrieving an element by index is O(1), but you need to know the exact index.\n",
        "Lists are ordered, meaning elements are stored in the order they are added.\n",
        "Example:\n",
        "\n",
        "python\n",
        "Copy code\n",
        "my_list = [10, 20, 30]\n",
        "print(my_list[1])  # Output: 20\n",
        "Dictionary:\n",
        "\n",
        "Data is retrieved using a key (which can be of any immutable type like strings, numbers, or tuples) to directly access the associated value.\n",
        "The time complexity for retrieving a value by key is O(1) on average because dictionaries are implemented using hash tables.\n",
        "Dictionaries are unordered (before Python 3.7), so the order of the key-value pairs is not guaranteed unless explicitly sorted or used in later versions (Python 3.7+ guarantees insertion order).\n",
        "Example:\n",
        "\n",
        "python\n",
        "Copy code\n",
        "my_dict = {\"a\": 1, \"b\": 2, \"c\": 3}\n",
        "print(my_dict[\"b\"])  # Output: 2\n",
        "Key Differences:\n",
        "Lists are indexed by integers, and their order matters.\n",
        "Dictionaries are indexed by keys, and they provide fast lookups by those keys without caring about order."
      ],
      "metadata": {
        "id": "3U1M-Zx0wws2"
      }
    },
    {
      "cell_type": "markdown",
      "source": [
        "##Practical Questions and Answers"
      ],
      "metadata": {
        "id": "kjDl66tbxcz1"
      }
    },
    {
      "cell_type": "markdown",
      "source": [
        "Q1, Write a code to create a string with your name and print it?"
      ],
      "metadata": {
        "id": "g5jYU4Ye6EZz"
      }
    },
    {
      "cell_type": "code",
      "source": [
        "#Here’s an example code to create a string with a name and print it:\n",
        "# Create a string with your name\n",
        "#my Name is Ovais Qureshi\n",
        "my_name=\"Ovais Qureshi\"\n",
        "print(\"Ovais Qureshi\")\n",
        "\n"
      ],
      "metadata": {
        "colab": {
          "base_uri": "https://localhost:8080/"
        },
        "id": "kBUq1V2I6HXV",
        "outputId": "a5181c25-92ce-47ed-8edb-1481e450e167"
      },
      "execution_count": null,
      "outputs": [
        {
          "output_type": "stream",
          "name": "stdout",
          "text": [
            "Ovais Qureshi\n"
          ]
        }
      ]
    },
    {
      "cell_type": "markdown",
      "source": [
        "Q2, Write a code to find the length of the string \"Hello World\"?"
      ],
      "metadata": {
        "id": "DekxgX7K89y9"
      }
    },
    {
      "cell_type": "code",
      "source": [
        "#Here’s a code snippet to find the length of the string \"Hello World\":\n",
        "\n",
        "# Define the string\n",
        "text = \"Hello World\"\n",
        "\n",
        "# Find the length of the string\n",
        "length = len(text)\n",
        "\n",
        "# Print the length\n",
        "print(\"The length of the string is:\", length)\n",
        "#Output:\n",
        "#The length of the string is: 11"
      ],
      "metadata": {
        "colab": {
          "base_uri": "https://localhost:8080/"
        },
        "id": "PTEt8krr9hMz",
        "outputId": "0ecfb910-24e9-4117-aa8e-eb5eaace3e42"
      },
      "execution_count": null,
      "outputs": [
        {
          "output_type": "stream",
          "name": "stdout",
          "text": [
            "The length of the string is: 11\n"
          ]
        }
      ]
    },
    {
      "cell_type": "markdown",
      "source": [
        "Q3, Write a code to slice the first 3 characters from the string \"Python Programming\"?"
      ],
      "metadata": {
        "id": "Ske-sg-_96x4"
      }
    },
    {
      "cell_type": "code",
      "source": [
        "#Here’s the code to slice the first 3 characters from the string \"Python Programming\"\n",
        "\n",
        "# Slice the first 3 characters\n",
        "first_three_characters = text[:3]\n",
        "\n",
        "# Print the result\n",
        "print(\"The first 3 characters are:\", first_three_characters)\n"
      ],
      "metadata": {
        "colab": {
          "base_uri": "https://localhost:8080/"
        },
        "id": "YYlANbPJ99CU",
        "outputId": "ba83cbf9-cc85-425f-bbcc-f0efbea5f8ca"
      },
      "execution_count": null,
      "outputs": [
        {
          "output_type": "stream",
          "name": "stdout",
          "text": [
            "The first 3 characters are: Pyt\n"
          ]
        }
      ]
    },
    {
      "cell_type": "markdown",
      "source": [
        "Q4, Write a code to convert the string \"hello\" to uppercase?"
      ],
      "metadata": {
        "id": "Wdd4wfvv-yN6"
      }
    },
    {
      "cell_type": "code",
      "source": [
        "#Here’s the code to convert the string \"qureshi\" to uppercase:\n",
        "# Define the string\n",
        "text = \"qureshi\"\n",
        "\n",
        "# Convert the string to uppercase\n",
        "uppercase_text = text.upper()\n",
        "\n",
        "# Print the result\n",
        "print(\"The uppercase string is:\", uppercase_text)\n"
      ],
      "metadata": {
        "colab": {
          "base_uri": "https://localhost:8080/"
        },
        "id": "tpYA4zhG-1XE",
        "outputId": "72178559-e105-403f-9ce0-852e811c50d2"
      },
      "execution_count": null,
      "outputs": [
        {
          "output_type": "stream",
          "name": "stdout",
          "text": [
            "The uppercase string is: QURESHI\n"
          ]
        }
      ]
    },
    {
      "cell_type": "markdown",
      "source": [
        "Q5, Write a code to replace the word \"apple\" with \"orange\" in the string \"I like apple\"?"
      ],
      "metadata": {
        "id": "EsIRvOb3HWoD"
      }
    },
    {
      "cell_type": "code",
      "source": [
        "#Here’s the code to replace the word \"apple\" with \"orange\" in the string \"I like apple\":\n",
        "# Define the string\n",
        "text = \"I like apple\"\n",
        "\n",
        "# Replace \"apple\" with \"orange\"\n",
        "modified_text = text.replace(\"apple\", \"orange\")\n",
        "\n",
        "# Print the result\n",
        "print(\"The modified string is:\", modified_text)"
      ],
      "metadata": {
        "colab": {
          "base_uri": "https://localhost:8080/"
        },
        "id": "br-oCLnUHZsJ",
        "outputId": "0b882c5c-e4fb-43f7-c3a1-390098bc1d23"
      },
      "execution_count": null,
      "outputs": [
        {
          "output_type": "stream",
          "name": "stdout",
          "text": [
            "The modified string is: I like orange\n"
          ]
        }
      ]
    },
    {
      "cell_type": "markdown",
      "source": [
        "Q6, Write a code to create a list with numbers 1 to 5 and print it?"
      ],
      "metadata": {
        "id": "EOU30adtcVhN"
      }
    },
    {
      "cell_type": "code",
      "source": [
        "\n",
        "#Here’s the code to create a list with numbers from 1 to 5 and print it:\n",
        "# Create a list with numbers 1 to 5\n",
        "numbers = [1, 2, 3, 4, 5]\n",
        "\n",
        "# Print the list\n",
        "print(\"The list is:\", numbers)"
      ],
      "metadata": {
        "colab": {
          "base_uri": "https://localhost:8080/"
        },
        "id": "819h6jPScm0O",
        "outputId": "471ebdcc-446b-481c-c259-00ea3d019601"
      },
      "execution_count": null,
      "outputs": [
        {
          "output_type": "stream",
          "name": "stdout",
          "text": [
            "The list is: [1, 2, 3, 4, 5]\n"
          ]
        }
      ]
    },
    {
      "cell_type": "markdown",
      "source": [
        "Q7, Write a code to append the number 10 to the list [1, 2, 3, 4]?"
      ],
      "metadata": {
        "id": "ZTZ-GysLdIeW"
      }
    },
    {
      "cell_type": "code",
      "source": [
        "#Here’s the code to append the number 10 to the list [1, 2, 3, 4]:\n",
        "# Define the list\n",
        "numbers = [1, 2, 3, 4]\n",
        "\n",
        "# Append the number 10 to the list\n",
        "numbers.append(10)\n",
        "\n",
        "# Print the updated list\n",
        "print(\"The updated list is:\", numbers)"
      ],
      "metadata": {
        "colab": {
          "base_uri": "https://localhost:8080/"
        },
        "id": "IRxs3JHHdMB2",
        "outputId": "f67876c0-3ab1-4100-977c-1a55f0ff4e51"
      },
      "execution_count": null,
      "outputs": [
        {
          "output_type": "stream",
          "name": "stdout",
          "text": [
            "The updated list is: [1, 2, 3, 4, 10]\n"
          ]
        }
      ]
    },
    {
      "cell_type": "markdown",
      "source": [
        "Q8, Write a code to remove the number 3 from the list [1, 2, 3, 4, 5]?"
      ],
      "metadata": {
        "id": "QKADOA72evI8"
      }
    },
    {
      "cell_type": "code",
      "source": [
        "#Here’s the code to remove the number 3 from the list [1, 2, 3, 4, 5]:\n",
        "# Define the list\n",
        "numbers = [1, 2, 3, 4, 5]\n",
        "\n",
        "# Remove the number 3 from the list\n",
        "numbers.remove(3)\n",
        "\n",
        "# Print the updated list\n",
        "print(\"The updated list is:\", numbers)"
      ],
      "metadata": {
        "colab": {
          "base_uri": "https://localhost:8080/"
        },
        "id": "OPEB5Fl0exud",
        "outputId": "feace129-4423-46fb-d72e-51249d2504c8"
      },
      "execution_count": null,
      "outputs": [
        {
          "output_type": "stream",
          "name": "stdout",
          "text": [
            "The updated list is: [1, 2, 4, 5]\n"
          ]
        }
      ]
    },
    {
      "cell_type": "markdown",
      "source": [
        "Q9, Write a code to access the second element in the list ['a', 'b', 'c', 'd']"
      ],
      "metadata": {
        "id": "1ZK9SNfMfOA8"
      }
    },
    {
      "cell_type": "code",
      "source": [
        "#Here’s the code to access the second element in the list ['a', 'b', 'c', 'd']:\n",
        "# Define the list\n",
        "letters = ['a', 'b', 'c', 'd']\n",
        "\n",
        "# Access the second element\n",
        "second_element = letters[1]\n",
        "\n",
        "# Print the second element\n",
        "print(\"The second element is:\", second_element)"
      ],
      "metadata": {
        "colab": {
          "base_uri": "https://localhost:8080/"
        },
        "id": "0U9e89fmfPrr",
        "outputId": "974e8dbd-46b1-47e1-aa94-aa4420012fc9"
      },
      "execution_count": null,
      "outputs": [
        {
          "output_type": "stream",
          "name": "stdout",
          "text": [
            "The second element is: b\n"
          ]
        }
      ]
    },
    {
      "cell_type": "markdown",
      "source": [
        "Q10, Write a code to reverse the list [10, 20, 30, 40, 50]?"
      ],
      "metadata": {
        "id": "f8tJ3KVnfhpz"
      }
    },
    {
      "cell_type": "code",
      "source": [
        "#Here’s the code to reverse the list [10, 20, 30, 40, 50]:\n",
        "# Define the list\n",
        "numbers = [10, 20, 30, 40, 50]\n",
        "\n",
        "# Reverse the list\n",
        "numbers.reverse()\n",
        "\n",
        "# Print the reversed list\n",
        "print(\"The reversed list is:\", numbers)"
      ],
      "metadata": {
        "colab": {
          "base_uri": "https://localhost:8080/"
        },
        "id": "Rlcm-BHBfkS8",
        "outputId": "306c5e63-ce1b-43bd-b0e2-c0711577704b"
      },
      "execution_count": null,
      "outputs": [
        {
          "output_type": "stream",
          "name": "stdout",
          "text": [
            "The reversed list is: [50, 40, 30, 20, 10]\n"
          ]
        }
      ]
    },
    {
      "cell_type": "markdown",
      "source": [
        "Q11, Write a code to create a tuple with the elements 10, 20, 30 and print it?"
      ],
      "metadata": {
        "id": "_wCB6SDGgA87"
      }
    },
    {
      "cell_type": "code",
      "source": [
        "#Here’s the code to create a tuple with the elements 10, 20, and 30 and print it:\n",
        "# Create a tuple with the elements 10, 20, 30\n",
        "my_tuple = (10, 20, 30)\n",
        "\n",
        "# Print the tuple\n",
        "print(\"The tuple is:\", my_tuple)"
      ],
      "metadata": {
        "colab": {
          "base_uri": "https://localhost:8080/"
        },
        "id": "lyUh3QbUgEHj",
        "outputId": "065e00b6-7975-4ad2-d420-4d1cf6098bf4"
      },
      "execution_count": null,
      "outputs": [
        {
          "output_type": "stream",
          "name": "stdout",
          "text": [
            "The tuple is: (10, 20, 30)\n"
          ]
        }
      ]
    },
    {
      "cell_type": "markdown",
      "source": [
        "Q12, Write a code to access the first element of the tuple ('apple', 'banana', 'cherry')?"
      ],
      "metadata": {
        "id": "Kueh3YNSglNz"
      }
    },
    {
      "cell_type": "code",
      "source": [
        "#Here’s the code to access the first element of the tuple ('apple', 'banana', 'cherry'):\n",
        "# Define the tuple\n",
        "fruits = ('apple', 'banana', 'cherry')\n",
        "\n",
        "# Access the first element\n",
        "first_element = fruits[0]\n",
        "\n",
        "# Print the first element\n",
        "print(\"The first element is:\", first_element)"
      ],
      "metadata": {
        "colab": {
          "base_uri": "https://localhost:8080/"
        },
        "id": "K0TjtqQAgmRT",
        "outputId": "8e7b5bf2-7c89-45c0-d053-3523e187728a"
      },
      "execution_count": null,
      "outputs": [
        {
          "output_type": "stream",
          "name": "stdout",
          "text": [
            "The first element is: apple\n"
          ]
        }
      ]
    },
    {
      "cell_type": "markdown",
      "source": [
        "Q13. Write a code to count how many times the number 2 appears in the tuple (1, 2, 3, 2, 4, 2)?"
      ],
      "metadata": {
        "id": "6b9kg5YqhbuL"
      }
    },
    {
      "cell_type": "code",
      "source": [
        "#Here’s the code to count how many times the number 2 appears in the tuple (1, 2, 3, 2, 4, 2):\n",
        "# Define the tuple\n",
        "my_tuple = (1, 2, 3, 2, 4, 2)\n",
        "\n",
        "# Count how many times 2 appears in the tuple\n",
        "count_of_2 = my_tuple.count(2)\n",
        "\n",
        "# Print the result\n",
        "print(\"The number 2 appears\", count_of_2, \"times in the tuple.\")"
      ],
      "metadata": {
        "colab": {
          "base_uri": "https://localhost:8080/"
        },
        "id": "cKHy7jOIhh3i",
        "outputId": "1614f90c-aa2c-4dd2-9256-5737820a60ad"
      },
      "execution_count": null,
      "outputs": [
        {
          "output_type": "stream",
          "name": "stdout",
          "text": [
            "The number 2 appears 3 times in the tuple.\n"
          ]
        }
      ]
    },
    {
      "cell_type": "markdown",
      "source": [
        "Q14, Write a code to find the index of the element \"cat\" in the tuple ('dog', 'cat', 'rabbit')?"
      ],
      "metadata": {
        "id": "QyYjHIKuh887"
      }
    },
    {
      "cell_type": "code",
      "source": [
        "#Here’s the code to find the index of the element \"cat\" in the tuple ('dog', 'cat', 'rabbit'):\n",
        "# Define the tuple\n",
        "my_tuple = ('dog', 'cat', 'rabbit')\n",
        "\n",
        "# Find the index of the element \"cat\"\n",
        "index_of_cat = my_tuple.index('cat')\n",
        "\n",
        "# Print the result\n",
        "print(\"The index of 'cat' is:\", index_of_cat)"
      ],
      "metadata": {
        "colab": {
          "base_uri": "https://localhost:8080/"
        },
        "id": "-HZQWMV-iZLi",
        "outputId": "e69bbad9-e2f0-485d-d10f-0100bc175dd5"
      },
      "execution_count": null,
      "outputs": [
        {
          "output_type": "stream",
          "name": "stdout",
          "text": [
            "The index of 'cat' is: 1\n"
          ]
        }
      ]
    },
    {
      "cell_type": "markdown",
      "source": [
        "Q15, Write a code to check if the element \"banana\" is in the tuple ('apple', 'orange', 'banana')?"
      ],
      "metadata": {
        "id": "tbAjkmk3io1M"
      }
    },
    {
      "cell_type": "code",
      "source": [
        "#Here’s the code to check if the element \"banana\" is in the tuple ('apple', 'orange', 'banana'):\n",
        "# Define the tuple\n",
        "my_tuple = ('apple', 'orange', 'banana')\n",
        "\n",
        "# Check if \"banana\" is in the tuple\n",
        "if 'banana' in my_tuple:\n",
        "    print(\"Yes, 'banana' is in the tuple.\")\n",
        "else:\n",
        "    print(\"No, 'banana' is not in the tuple.\")"
      ],
      "metadata": {
        "colab": {
          "base_uri": "https://localhost:8080/"
        },
        "id": "yJpOAxKUi4x9",
        "outputId": "cd0045a0-146d-464b-9942-07511b81882d"
      },
      "execution_count": null,
      "outputs": [
        {
          "output_type": "stream",
          "name": "stdout",
          "text": [
            "Yes, 'banana' is in the tuple.\n"
          ]
        }
      ]
    },
    {
      "cell_type": "markdown",
      "source": [
        "Q16, Write a code to create a set with the elements 1, 2, 3, 4, 5 and print it?"
      ],
      "metadata": {
        "id": "_LKxrT4xjM8c"
      }
    },
    {
      "cell_type": "code",
      "source": [
        "#Here’s the code to create a set with the elements 1, 2, 3, 4, 5 and print it:\n",
        "# Create a set with the elements 1, 2, 3, 4, 5\n",
        "my_set = {1, 2, 3, 4, 5}\n",
        "\n",
        "# Print the set\n",
        "print(\"The set is:\", my_set)"
      ],
      "metadata": {
        "colab": {
          "base_uri": "https://localhost:8080/"
        },
        "id": "DzW2a_kHc8zt",
        "outputId": "c4df3536-b341-4087-abbb-14bbf364cd76"
      },
      "execution_count": null,
      "outputs": [
        {
          "output_type": "stream",
          "name": "stdout",
          "text": [
            "The set is: {1, 2, 3, 4, 5}\n"
          ]
        }
      ]
    },
    {
      "cell_type": "markdown",
      "source": [
        "Q17, Write a code to add the element 6 to the set {1, 2, 3, 4}?"
      ],
      "metadata": {
        "id": "07ET1NrjnK1S"
      }
    },
    {
      "cell_type": "code",
      "source": [
        "#Here’s the code to add the element 6 to the set {1, 2, 3, 4}:\n",
        "# Define the set\n",
        "my_set = {1, 2, 3, 4}\n",
        "\n",
        "# Add the element 6 to the set\n",
        "my_set.add(6)\n",
        "\n",
        "# Print the updated set\n",
        "print(\"The updated set is:\", my_set)"
      ],
      "metadata": {
        "colab": {
          "base_uri": "https://localhost:8080/"
        },
        "id": "wSEVeqR2nMkr",
        "outputId": "83208d66-33f8-4def-861d-7d5c4f5c5823"
      },
      "execution_count": null,
      "outputs": [
        {
          "output_type": "stream",
          "name": "stdout",
          "text": [
            "The updated set is: {1, 2, 3, 4, 6}\n"
          ]
        }
      ]
    },
    {
      "cell_type": "markdown",
      "source": [
        "Q18, Write a code to create a tuple with the elements 10, 20, 30 and print it?"
      ],
      "metadata": {
        "id": "6C_qaMLung3M"
      }
    },
    {
      "cell_type": "code",
      "source": [
        "#Here’s the code to create a tuple with the elements 10, 20, and 30 and print it:\n",
        "# Create a tuple with the elements 10, 20, 30\n",
        "my_tuple = (10, 20, 30)\n",
        "\n",
        "# Print the tuple\n",
        "print(\"The tuple is:\", my_tuple)"
      ],
      "metadata": {
        "colab": {
          "base_uri": "https://localhost:8080/"
        },
        "id": "waN2vLyNnkJU",
        "outputId": "10838210-f67c-488e-f7bf-63b87f2cf9ee"
      },
      "execution_count": null,
      "outputs": [
        {
          "output_type": "stream",
          "name": "stdout",
          "text": [
            "The tuple is: (10, 20, 30)\n"
          ]
        }
      ]
    },
    {
      "cell_type": "markdown",
      "source": [
        "Q19, Write a code to access the first element of the tuple ('apple', 'banana', 'cherry')?"
      ],
      "metadata": {
        "id": "lzsi48e8oJqV"
      }
    },
    {
      "cell_type": "code",
      "source": [
        "#Here’s the code to access the first element of the tuple ('apple', 'banana', 'cherry'):\n",
        "# Define the tuple\n",
        "my_tuple = ('apple', 'banana', 'cherry')\n",
        "\n",
        "# Access the first element\n",
        "first_element = my_tuple[0]\n",
        "\n",
        "# Print the first element\n",
        "print(\"The first element is:\", first_element)"
      ],
      "metadata": {
        "colab": {
          "base_uri": "https://localhost:8080/"
        },
        "id": "g-1YaXwHjfKZ",
        "outputId": "833eda21-0dda-461f-e89a-cded95e096aa"
      },
      "execution_count": null,
      "outputs": [
        {
          "output_type": "stream",
          "name": "stdout",
          "text": [
            "The first element is: apple\n"
          ]
        }
      ]
    },
    {
      "cell_type": "markdown",
      "source": [
        "Q20, Write a code to count how many times the number 2 appears in the tuple (1, 2, 3, 2, 4, 2)?"
      ],
      "metadata": {
        "id": "RK4rWpHVohJB"
      }
    },
    {
      "cell_type": "code",
      "source": [
        "#You can count how many times the number 2 appears in the tuple (1, 2, 3, 2, 4, 2) using the count() method. Here's the code:\n",
        "my_tuple = (1, 2, 3, 2, 4, 2)\n",
        "count_of_twos = my_tuple.count(2)\n",
        "print(count_of_twos)"
      ],
      "metadata": {
        "colab": {
          "base_uri": "https://localhost:8080/"
        },
        "id": "t2OH94VNoWmh",
        "outputId": "d98dd39a-124b-4af0-ea1e-863b484cee32"
      },
      "execution_count": null,
      "outputs": [
        {
          "output_type": "stream",
          "name": "stdout",
          "text": [
            "3\n"
          ]
        }
      ]
    },
    {
      "cell_type": "markdown",
      "source": [
        "Q21, Write a code to find the index of the element \"cat\" in the tuple ('dog', 'cat', 'rabbit')?"
      ],
      "metadata": {
        "id": "RHg6l3QKpDVb"
      }
    },
    {
      "cell_type": "code",
      "source": [
        "#You can find the index of the element \"cat\" in the tuple ('dog', 'cat', 'rabbit') using the index() method. Here's the code:\n",
        "my_tuple = ('dog', 'cat', 'rabbit')\n",
        "index_of_cat = my_tuple.index('cat')\n",
        "print(index_of_cat)"
      ],
      "metadata": {
        "colab": {
          "base_uri": "https://localhost:8080/"
        },
        "id": "2BzKVOqTxiWE",
        "outputId": "90fcc72c-3fd3-4270-c2f8-d3070163e129"
      },
      "execution_count": null,
      "outputs": [
        {
          "output_type": "stream",
          "name": "stdout",
          "text": [
            "1\n"
          ]
        }
      ]
    },
    {
      "cell_type": "markdown",
      "source": [
        "Q22, Write a code to check if the element \"banana\" is in the tuple ('apple', 'orange', 'banana')?"
      ],
      "metadata": {
        "id": "ZvlrOapix-O5"
      }
    },
    {
      "cell_type": "code",
      "source": [
        "#You can check if the element \"banana\" is in the tuple ('apple', 'orange', 'banana') using the in keyword. Here's the code:\n",
        "my_tuple = ('apple', 'orange', 'banana')\n",
        "is_banana_in_tuple = 'banana' in my_tuple\n",
        "print(is_banana_in_tuple)"
      ],
      "metadata": {
        "colab": {
          "base_uri": "https://localhost:8080/"
        },
        "id": "TSCWwMZEo4jr",
        "outputId": "56ea1fb5-e8c8-426d-db88-daef49760820"
      },
      "execution_count": null,
      "outputs": [
        {
          "output_type": "stream",
          "name": "stdout",
          "text": [
            "True\n"
          ]
        }
      ]
    },
    {
      "cell_type": "markdown",
      "source": [
        "Q23, Write a code to create a set with the elements 1, 2, 3, 4, 5 and print it?"
      ],
      "metadata": {
        "id": "s5nY4ZIlyRwD"
      }
    },
    {
      "cell_type": "code",
      "source": [
        "#You can create a set with the elements 1, 2, 3, 4, 5 using the set() constructor. Here's the code:\n",
        "my_set = {1, 2, 3, 4, 5}\n",
        "print(my_set)"
      ],
      "metadata": {
        "colab": {
          "base_uri": "https://localhost:8080/"
        },
        "id": "WUqbL1cnyUJv",
        "outputId": "825131dd-fdfe-482c-8dc6-71469ffa88b2"
      },
      "execution_count": null,
      "outputs": [
        {
          "output_type": "stream",
          "name": "stdout",
          "text": [
            "{1, 2, 3, 4, 5}\n"
          ]
        }
      ]
    },
    {
      "cell_type": "markdown",
      "source": [
        "Q24, Write a code to add the element 6 to the set {1, 2, 3, 4}?"
      ],
      "metadata": {
        "id": "dcChjnMGye8a"
      }
    },
    {
      "cell_type": "code",
      "source": [
        "#You can add the element 6 to the set {1, 2, 3, 4} using the add() method. Here's the code:\n",
        "my_set = {1, 2, 3, 4}\n",
        "my_set.add(6)\n",
        "print(my_set)"
      ],
      "metadata": {
        "colab": {
          "base_uri": "https://localhost:8080/"
        },
        "id": "6-38G2irylO_",
        "outputId": "68f328a0-0af4-4b9c-8a4f-e5e85df67ad0"
      },
      "execution_count": null,
      "outputs": [
        {
          "output_type": "stream",
          "name": "stdout",
          "text": [
            "{1, 2, 3, 4, 6}\n"
          ]
        }
      ]
    },
    {
      "cell_type": "code",
      "source": [],
      "metadata": {
        "id": "eEF7RTn0yI0A"
      },
      "execution_count": null,
      "outputs": []
    }
  ]
}